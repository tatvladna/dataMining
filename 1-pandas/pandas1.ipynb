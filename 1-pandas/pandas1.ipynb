{
 "cells": [
  {
   "cell_type": "markdown",
   "metadata": {},
   "source": [
    "# Задание:\n",
    "\n",
    "1. Создайте объект Pandas Dataframe на основе файла Set_1100_const_desc.txt.\n",
    "\n",
    "2. Удалите колонки с названиями \"ActiveTag\", \"HeavyAtomCount\".\n",
    "\n",
    "3. Отфильтруйте элементы таблицы, оставив те, у которых количество доноров водорода (колонка \"NumHDonors\") принимает значение от 3 до 5.\n",
    "\n",
    "4. Отсортируйте элементы по увеличению значения количества гетероатомов (колонка ''NumHeteroatoms').\n",
    "\n",
    "4. Сохраните получившийся объект Pandas Dataframe в бинарный файл pickle с помощью функции pickle.dump. и файл  в формате csv.\n",
    "\n",
    "6. Загрузите файлы в качестве домашнего задания для проверки.\n",
    "\n",
    "\n",
    "Критерии выполнения: задание является выполненным, если файлы, отправленные на проверку, содержат правильную информацию (5 баллов)\n",
    "\n",
    "Форма сдачи задания: бинарный файл pickle, файл  в формате csv, прикрепленные к данному заданию."
   ]
  },
  {
   "cell_type": "code",
   "execution_count": 1,
   "metadata": {},
   "outputs": [],
   "source": [
    "import pandas as pd\n",
    "import pickle"
   ]
  },
  {
   "cell_type": "code",
   "execution_count": 2,
   "metadata": {},
   "outputs": [
    {
     "data": {
      "text/html": [
       "<div>\n",
       "<style scoped>\n",
       "    .dataframe tbody tr th:only-of-type {\n",
       "        vertical-align: middle;\n",
       "    }\n",
       "\n",
       "    .dataframe tbody tr th {\n",
       "        vertical-align: top;\n",
       "    }\n",
       "\n",
       "    .dataframe thead th {\n",
       "        text-align: right;\n",
       "    }\n",
       "</style>\n",
       "<table border=\"1\" class=\"dataframe\">\n",
       "  <thead>\n",
       "    <tr style=\"text-align: right;\">\n",
       "      <th></th>\n",
       "      <th>ID</th>\n",
       "      <th>ActiveTag</th>\n",
       "      <th>HeavyAtomCount</th>\n",
       "      <th>NHOHCount</th>\n",
       "      <th>NOCount</th>\n",
       "      <th>NumHAcceptors</th>\n",
       "      <th>NumHDonors</th>\n",
       "      <th>NumHeteroatoms</th>\n",
       "      <th>NumRotatableBonds</th>\n",
       "      <th>NumValenceElectrons</th>\n",
       "      <th>NumAromaticRings</th>\n",
       "      <th>NumAliphaticHeterocycles</th>\n",
       "      <th>RingCount</th>\n",
       "    </tr>\n",
       "  </thead>\n",
       "  <tbody>\n",
       "    <tr>\n",
       "      <th>0</th>\n",
       "      <td>1</td>\n",
       "      <td>0</td>\n",
       "      <td>15</td>\n",
       "      <td>0</td>\n",
       "      <td>3</td>\n",
       "      <td>3</td>\n",
       "      <td>0</td>\n",
       "      <td>4</td>\n",
       "      <td>6</td>\n",
       "      <td>90</td>\n",
       "      <td>0</td>\n",
       "      <td>0</td>\n",
       "      <td>0</td>\n",
       "    </tr>\n",
       "    <tr>\n",
       "      <th>1</th>\n",
       "      <td>2</td>\n",
       "      <td>0</td>\n",
       "      <td>16</td>\n",
       "      <td>0</td>\n",
       "      <td>3</td>\n",
       "      <td>3</td>\n",
       "      <td>0</td>\n",
       "      <td>4</td>\n",
       "      <td>8</td>\n",
       "      <td>96</td>\n",
       "      <td>0</td>\n",
       "      <td>0</td>\n",
       "      <td>0</td>\n",
       "    </tr>\n",
       "    <tr>\n",
       "      <th>2</th>\n",
       "      <td>3</td>\n",
       "      <td>0</td>\n",
       "      <td>14</td>\n",
       "      <td>0</td>\n",
       "      <td>3</td>\n",
       "      <td>3</td>\n",
       "      <td>0</td>\n",
       "      <td>4</td>\n",
       "      <td>6</td>\n",
       "      <td>84</td>\n",
       "      <td>0</td>\n",
       "      <td>0</td>\n",
       "      <td>0</td>\n",
       "    </tr>\n",
       "    <tr>\n",
       "      <th>3</th>\n",
       "      <td>4</td>\n",
       "      <td>0</td>\n",
       "      <td>17</td>\n",
       "      <td>0</td>\n",
       "      <td>3</td>\n",
       "      <td>3</td>\n",
       "      <td>0</td>\n",
       "      <td>4</td>\n",
       "      <td>9</td>\n",
       "      <td>102</td>\n",
       "      <td>0</td>\n",
       "      <td>0</td>\n",
       "      <td>0</td>\n",
       "    </tr>\n",
       "    <tr>\n",
       "      <th>4</th>\n",
       "      <td>5</td>\n",
       "      <td>0</td>\n",
       "      <td>18</td>\n",
       "      <td>0</td>\n",
       "      <td>3</td>\n",
       "      <td>3</td>\n",
       "      <td>0</td>\n",
       "      <td>4</td>\n",
       "      <td>5</td>\n",
       "      <td>100</td>\n",
       "      <td>1</td>\n",
       "      <td>0</td>\n",
       "      <td>1</td>\n",
       "    </tr>\n",
       "  </tbody>\n",
       "</table>\n",
       "</div>"
      ],
      "text/plain": [
       "   ID  ActiveTag  HeavyAtomCount  NHOHCount  NOCount  NumHAcceptors  \\\n",
       "0   1          0              15          0        3              3   \n",
       "1   2          0              16          0        3              3   \n",
       "2   3          0              14          0        3              3   \n",
       "3   4          0              17          0        3              3   \n",
       "4   5          0              18          0        3              3   \n",
       "\n",
       "   NumHDonors  NumHeteroatoms  NumRotatableBonds  NumValenceElectrons  \\\n",
       "0           0               4                  6                   90   \n",
       "1           0               4                  8                   96   \n",
       "2           0               4                  6                   84   \n",
       "3           0               4                  9                  102   \n",
       "4           0               4                  5                  100   \n",
       "\n",
       "   NumAromaticRings  NumAliphaticHeterocycles  RingCount  \n",
       "0                 0                         0          0  \n",
       "1                 0                         0          0  \n",
       "2                 0                         0          0  \n",
       "3                 0                         0          0  \n",
       "4                 1                         0          1  "
      ]
     },
     "metadata": {},
     "output_type": "display_data"
    },
    {
     "name": "stdout",
     "output_type": "stream",
     "text": [
      "<class 'pandas.core.frame.DataFrame'>\n",
      "RangeIndex: 1100 entries, 0 to 1099\n",
      "Data columns (total 13 columns):\n",
      " #   Column                    Non-Null Count  Dtype\n",
      "---  ------                    --------------  -----\n",
      " 0   ID                        1100 non-null   int64\n",
      " 1   ActiveTag                 1100 non-null   int64\n",
      " 2   HeavyAtomCount            1100 non-null   int64\n",
      " 3   NHOHCount                 1100 non-null   int64\n",
      " 4   NOCount                   1100 non-null   int64\n",
      " 5   NumHAcceptors             1100 non-null   int64\n",
      " 6   NumHDonors                1100 non-null   int64\n",
      " 7   NumHeteroatoms            1100 non-null   int64\n",
      " 8   NumRotatableBonds         1100 non-null   int64\n",
      " 9   NumValenceElectrons       1100 non-null   int64\n",
      " 10  NumAromaticRings          1100 non-null   int64\n",
      " 11  NumAliphaticHeterocycles  1100 non-null   int64\n",
      " 12  RingCount                 1100 non-null   int64\n",
      "dtypes: int64(13)\n",
      "memory usage: 111.8 KB\n"
     ]
    },
    {
     "data": {
      "text/plain": [
       "None"
      ]
     },
     "metadata": {},
     "output_type": "display_data"
    }
   ],
   "source": [
    "df = pd.read_csv(\"Set_1100_const_desc.txt\", sep = \"\\t\")\n",
    "display(df.head())\n",
    "display(df.info())\n",
    "old_length_df = len(df)"
   ]
  },
  {
   "cell_type": "code",
   "execution_count": 3,
   "metadata": {},
   "outputs": [
    {
     "data": {
      "text/html": [
       "<div>\n",
       "<style scoped>\n",
       "    .dataframe tbody tr th:only-of-type {\n",
       "        vertical-align: middle;\n",
       "    }\n",
       "\n",
       "    .dataframe tbody tr th {\n",
       "        vertical-align: top;\n",
       "    }\n",
       "\n",
       "    .dataframe thead th {\n",
       "        text-align: right;\n",
       "    }\n",
       "</style>\n",
       "<table border=\"1\" class=\"dataframe\">\n",
       "  <thead>\n",
       "    <tr style=\"text-align: right;\">\n",
       "      <th></th>\n",
       "      <th>ID</th>\n",
       "      <th>NHOHCount</th>\n",
       "      <th>NOCount</th>\n",
       "      <th>NumHAcceptors</th>\n",
       "      <th>NumHDonors</th>\n",
       "      <th>NumHeteroatoms</th>\n",
       "      <th>NumRotatableBonds</th>\n",
       "      <th>NumValenceElectrons</th>\n",
       "      <th>NumAromaticRings</th>\n",
       "      <th>NumAliphaticHeterocycles</th>\n",
       "      <th>RingCount</th>\n",
       "    </tr>\n",
       "  </thead>\n",
       "  <tbody>\n",
       "    <tr>\n",
       "      <th>0</th>\n",
       "      <td>1</td>\n",
       "      <td>0</td>\n",
       "      <td>3</td>\n",
       "      <td>3</td>\n",
       "      <td>0</td>\n",
       "      <td>4</td>\n",
       "      <td>6</td>\n",
       "      <td>90</td>\n",
       "      <td>0</td>\n",
       "      <td>0</td>\n",
       "      <td>0</td>\n",
       "    </tr>\n",
       "    <tr>\n",
       "      <th>1</th>\n",
       "      <td>2</td>\n",
       "      <td>0</td>\n",
       "      <td>3</td>\n",
       "      <td>3</td>\n",
       "      <td>0</td>\n",
       "      <td>4</td>\n",
       "      <td>8</td>\n",
       "      <td>96</td>\n",
       "      <td>0</td>\n",
       "      <td>0</td>\n",
       "      <td>0</td>\n",
       "    </tr>\n",
       "    <tr>\n",
       "      <th>2</th>\n",
       "      <td>3</td>\n",
       "      <td>0</td>\n",
       "      <td>3</td>\n",
       "      <td>3</td>\n",
       "      <td>0</td>\n",
       "      <td>4</td>\n",
       "      <td>6</td>\n",
       "      <td>84</td>\n",
       "      <td>0</td>\n",
       "      <td>0</td>\n",
       "      <td>0</td>\n",
       "    </tr>\n",
       "    <tr>\n",
       "      <th>3</th>\n",
       "      <td>4</td>\n",
       "      <td>0</td>\n",
       "      <td>3</td>\n",
       "      <td>3</td>\n",
       "      <td>0</td>\n",
       "      <td>4</td>\n",
       "      <td>9</td>\n",
       "      <td>102</td>\n",
       "      <td>0</td>\n",
       "      <td>0</td>\n",
       "      <td>0</td>\n",
       "    </tr>\n",
       "    <tr>\n",
       "      <th>4</th>\n",
       "      <td>5</td>\n",
       "      <td>0</td>\n",
       "      <td>3</td>\n",
       "      <td>3</td>\n",
       "      <td>0</td>\n",
       "      <td>4</td>\n",
       "      <td>5</td>\n",
       "      <td>100</td>\n",
       "      <td>1</td>\n",
       "      <td>0</td>\n",
       "      <td>1</td>\n",
       "    </tr>\n",
       "  </tbody>\n",
       "</table>\n",
       "</div>"
      ],
      "text/plain": [
       "   ID  NHOHCount  NOCount  NumHAcceptors  NumHDonors  NumHeteroatoms  \\\n",
       "0   1          0        3              3           0               4   \n",
       "1   2          0        3              3           0               4   \n",
       "2   3          0        3              3           0               4   \n",
       "3   4          0        3              3           0               4   \n",
       "4   5          0        3              3           0               4   \n",
       "\n",
       "   NumRotatableBonds  NumValenceElectrons  NumAromaticRings  \\\n",
       "0                  6                   90                 0   \n",
       "1                  8                   96                 0   \n",
       "2                  6                   84                 0   \n",
       "3                  9                  102                 0   \n",
       "4                  5                  100                 1   \n",
       "\n",
       "   NumAliphaticHeterocycles  RingCount  \n",
       "0                         0          0  \n",
       "1                         0          0  \n",
       "2                         0          0  \n",
       "3                         0          0  \n",
       "4                         0          1  "
      ]
     },
     "execution_count": 3,
     "metadata": {},
     "output_type": "execute_result"
    }
   ],
   "source": [
    "df = df.drop(['ActiveTag', 'HeavyAtomCount'], axis=1)\n",
    "df.head()"
   ]
  },
  {
   "cell_type": "code",
   "execution_count": 4,
   "metadata": {},
   "outputs": [
    {
     "data": {
      "text/plain": [
       "Index(['ID', 'NHOHCount', 'NOCount', 'NumHAcceptors', 'NumHDonors',\n",
       "       'NumHeteroatoms', 'NumRotatableBonds', 'NumValenceElectrons',\n",
       "       'NumAromaticRings', 'NumAliphaticHeterocycles', 'RingCount'],\n",
       "      dtype='object')"
      ]
     },
     "execution_count": 4,
     "metadata": {},
     "output_type": "execute_result"
    }
   ],
   "source": [
    "df.columns"
   ]
  },
  {
   "cell_type": "code",
   "execution_count": 5,
   "metadata": {},
   "outputs": [],
   "source": [
    "df = df.rename(columns={\"NHOHCount\": \"nhoh_count\",\n",
    "                        \"NOCount\": \"no_count\",\n",
    "                        'NumHAcceptors': 'num_h_acceptors', \n",
    "                        'NumHDonors': \"num_h_donors\",\n",
    "                        'NumHeteroatoms': 'num_heteroatoms', \n",
    "                        'NumRotatableBonds': 'num_rotatable_bonds', \n",
    "                        'NumValenceElectrons': 'num_valence_electrons',\n",
    "                        'NumAromaticRings': 'num_aromatic_rings', \n",
    "                        'NumAliphaticHeterocycles': 'num_aliphatic_heterocycles', \n",
    "                        'RingCount':'ring_count'\n",
    "                        })"
   ]
  },
  {
   "cell_type": "code",
   "execution_count": 6,
   "metadata": {},
   "outputs": [
    {
     "name": "stdout",
     "output_type": "stream",
     "text": [
      "<class 'pandas.core.frame.DataFrame'>\n",
      "Index: 83 entries, 68 to 1099\n",
      "Data columns (total 11 columns):\n",
      " #   Column                      Non-Null Count  Dtype\n",
      "---  ------                      --------------  -----\n",
      " 0   ID                          83 non-null     int64\n",
      " 1   nhoh_count                  83 non-null     int64\n",
      " 2   no_count                    83 non-null     int64\n",
      " 3   num_h_acceptors             83 non-null     int64\n",
      " 4   num_h_donors                83 non-null     int64\n",
      " 5   num_heteroatoms             83 non-null     int64\n",
      " 6   num_rotatable_bonds         83 non-null     int64\n",
      " 7   num_valence_electrons       83 non-null     int64\n",
      " 8   num_aromatic_rings          83 non-null     int64\n",
      " 9   num_aliphatic_heterocycles  83 non-null     int64\n",
      " 10  ring_count                  83 non-null     int64\n",
      "dtypes: int64(11)\n",
      "memory usage: 7.8 KB\n"
     ]
    }
   ],
   "source": [
    "df = df[(df['num_h_donors'] >= 3) & (df['num_h_donors'] <= 5)]\n",
    "df.info()\n",
    "new_length_df = len(df)"
   ]
  },
  {
   "cell_type": "code",
   "execution_count": 7,
   "metadata": {},
   "outputs": [
    {
     "data": {
      "text/plain": [
       "'Процент удаленных данных: 92.45%'"
      ]
     },
     "execution_count": 7,
     "metadata": {},
     "output_type": "execute_result"
    }
   ],
   "source": [
    "f'Процент удаленных данных: {(100 - (new_length_df * 100 / old_length_df)):.2f}%'"
   ]
  },
  {
   "cell_type": "code",
   "execution_count": 8,
   "metadata": {},
   "outputs": [],
   "source": [
    "df.to_csv('new_set_83.csv', encoding='utf-8')\n"
   ]
  },
  {
   "cell_type": "code",
   "execution_count": 9,
   "metadata": {},
   "outputs": [],
   "source": [
    "with open('new_set_83.pkl', 'wb') as file:\n",
    "    pickle.dump(df, file)"
   ]
  }
 ],
 "metadata": {
  "kernelspec": {
   "display_name": "ds",
   "language": "python",
   "name": "python3"
  },
  "language_info": {
   "codemirror_mode": {
    "name": "ipython",
    "version": 3
   },
   "file_extension": ".py",
   "mimetype": "text/x-python",
   "name": "python",
   "nbconvert_exporter": "python",
   "pygments_lexer": "ipython3",
   "version": "3.12.3"
  }
 },
 "nbformat": 4,
 "nbformat_minor": 2
}
